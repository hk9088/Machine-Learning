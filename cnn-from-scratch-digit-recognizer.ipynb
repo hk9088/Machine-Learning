{
 "cells": [
  {
   "cell_type": "code",
   "execution_count": 1,
   "id": "fe1feb28",
   "metadata": {
    "_cell_guid": "b1076dfc-b9ad-4769-8c92-a6c4dae69d19",
    "_uuid": "8f2839f25d086af736a60e9eeb907d3b93b6e0e5",
    "execution": {
     "iopub.execute_input": "2022-12-23T13:08:24.390766Z",
     "iopub.status.busy": "2022-12-23T13:08:24.390124Z",
     "iopub.status.idle": "2022-12-23T13:08:24.402896Z",
     "shell.execute_reply": "2022-12-23T13:08:24.401742Z"
    },
    "papermill": {
     "duration": 0.026053,
     "end_time": "2022-12-23T13:08:24.405241",
     "exception": false,
     "start_time": "2022-12-23T13:08:24.379188",
     "status": "completed"
    },
    "tags": []
   },
   "outputs": [],
   "source": [
    "import numpy as np\n",
    "import pandas as pd\n",
    "from matplotlib import pyplot as plt"
   ]
  },
  {
   "cell_type": "code",
   "execution_count": 2,
   "id": "1504e26c",
   "metadata": {
    "execution": {
     "iopub.execute_input": "2022-12-23T13:08:24.421391Z",
     "iopub.status.busy": "2022-12-23T13:08:24.420258Z",
     "iopub.status.idle": "2022-12-23T13:08:31.058677Z",
     "shell.execute_reply": "2022-12-23T13:08:31.057404Z"
    },
    "papermill": {
     "duration": 6.649433,
     "end_time": "2022-12-23T13:08:31.061728",
     "exception": false,
     "start_time": "2022-12-23T13:08:24.412295",
     "status": "completed"
    },
    "tags": []
   },
   "outputs": [],
   "source": [
    "data = pd.read_csv('/kaggle/input/mnist-in-csv/mnist_train.csv')"
   ]
  },
  {
   "cell_type": "code",
   "execution_count": 3,
   "id": "f4aaa5e1",
   "metadata": {
    "execution": {
     "iopub.execute_input": "2022-12-23T13:08:31.077345Z",
     "iopub.status.busy": "2022-12-23T13:08:31.076910Z",
     "iopub.status.idle": "2022-12-23T13:08:31.108564Z",
     "shell.execute_reply": "2022-12-23T13:08:31.107706Z"
    },
    "papermill": {
     "duration": 0.04242,
     "end_time": "2022-12-23T13:08:31.111401",
     "exception": false,
     "start_time": "2022-12-23T13:08:31.068981",
     "status": "completed"
    },
    "tags": []
   },
   "outputs": [
    {
     "data": {
      "text/html": [
       "<div>\n",
       "<style scoped>\n",
       "    .dataframe tbody tr th:only-of-type {\n",
       "        vertical-align: middle;\n",
       "    }\n",
       "\n",
       "    .dataframe tbody tr th {\n",
       "        vertical-align: top;\n",
       "    }\n",
       "\n",
       "    .dataframe thead th {\n",
       "        text-align: right;\n",
       "    }\n",
       "</style>\n",
       "<table border=\"1\" class=\"dataframe\">\n",
       "  <thead>\n",
       "    <tr style=\"text-align: right;\">\n",
       "      <th></th>\n",
       "      <th>label</th>\n",
       "      <th>1x1</th>\n",
       "      <th>1x2</th>\n",
       "      <th>1x3</th>\n",
       "      <th>1x4</th>\n",
       "      <th>1x5</th>\n",
       "      <th>1x6</th>\n",
       "      <th>1x7</th>\n",
       "      <th>1x8</th>\n",
       "      <th>1x9</th>\n",
       "      <th>...</th>\n",
       "      <th>28x19</th>\n",
       "      <th>28x20</th>\n",
       "      <th>28x21</th>\n",
       "      <th>28x22</th>\n",
       "      <th>28x23</th>\n",
       "      <th>28x24</th>\n",
       "      <th>28x25</th>\n",
       "      <th>28x26</th>\n",
       "      <th>28x27</th>\n",
       "      <th>28x28</th>\n",
       "    </tr>\n",
       "  </thead>\n",
       "  <tbody>\n",
       "    <tr>\n",
       "      <th>0</th>\n",
       "      <td>5</td>\n",
       "      <td>0</td>\n",
       "      <td>0</td>\n",
       "      <td>0</td>\n",
       "      <td>0</td>\n",
       "      <td>0</td>\n",
       "      <td>0</td>\n",
       "      <td>0</td>\n",
       "      <td>0</td>\n",
       "      <td>0</td>\n",
       "      <td>...</td>\n",
       "      <td>0</td>\n",
       "      <td>0</td>\n",
       "      <td>0</td>\n",
       "      <td>0</td>\n",
       "      <td>0</td>\n",
       "      <td>0</td>\n",
       "      <td>0</td>\n",
       "      <td>0</td>\n",
       "      <td>0</td>\n",
       "      <td>0</td>\n",
       "    </tr>\n",
       "    <tr>\n",
       "      <th>1</th>\n",
       "      <td>0</td>\n",
       "      <td>0</td>\n",
       "      <td>0</td>\n",
       "      <td>0</td>\n",
       "      <td>0</td>\n",
       "      <td>0</td>\n",
       "      <td>0</td>\n",
       "      <td>0</td>\n",
       "      <td>0</td>\n",
       "      <td>0</td>\n",
       "      <td>...</td>\n",
       "      <td>0</td>\n",
       "      <td>0</td>\n",
       "      <td>0</td>\n",
       "      <td>0</td>\n",
       "      <td>0</td>\n",
       "      <td>0</td>\n",
       "      <td>0</td>\n",
       "      <td>0</td>\n",
       "      <td>0</td>\n",
       "      <td>0</td>\n",
       "    </tr>\n",
       "    <tr>\n",
       "      <th>2</th>\n",
       "      <td>4</td>\n",
       "      <td>0</td>\n",
       "      <td>0</td>\n",
       "      <td>0</td>\n",
       "      <td>0</td>\n",
       "      <td>0</td>\n",
       "      <td>0</td>\n",
       "      <td>0</td>\n",
       "      <td>0</td>\n",
       "      <td>0</td>\n",
       "      <td>...</td>\n",
       "      <td>0</td>\n",
       "      <td>0</td>\n",
       "      <td>0</td>\n",
       "      <td>0</td>\n",
       "      <td>0</td>\n",
       "      <td>0</td>\n",
       "      <td>0</td>\n",
       "      <td>0</td>\n",
       "      <td>0</td>\n",
       "      <td>0</td>\n",
       "    </tr>\n",
       "    <tr>\n",
       "      <th>3</th>\n",
       "      <td>1</td>\n",
       "      <td>0</td>\n",
       "      <td>0</td>\n",
       "      <td>0</td>\n",
       "      <td>0</td>\n",
       "      <td>0</td>\n",
       "      <td>0</td>\n",
       "      <td>0</td>\n",
       "      <td>0</td>\n",
       "      <td>0</td>\n",
       "      <td>...</td>\n",
       "      <td>0</td>\n",
       "      <td>0</td>\n",
       "      <td>0</td>\n",
       "      <td>0</td>\n",
       "      <td>0</td>\n",
       "      <td>0</td>\n",
       "      <td>0</td>\n",
       "      <td>0</td>\n",
       "      <td>0</td>\n",
       "      <td>0</td>\n",
       "    </tr>\n",
       "    <tr>\n",
       "      <th>4</th>\n",
       "      <td>9</td>\n",
       "      <td>0</td>\n",
       "      <td>0</td>\n",
       "      <td>0</td>\n",
       "      <td>0</td>\n",
       "      <td>0</td>\n",
       "      <td>0</td>\n",
       "      <td>0</td>\n",
       "      <td>0</td>\n",
       "      <td>0</td>\n",
       "      <td>...</td>\n",
       "      <td>0</td>\n",
       "      <td>0</td>\n",
       "      <td>0</td>\n",
       "      <td>0</td>\n",
       "      <td>0</td>\n",
       "      <td>0</td>\n",
       "      <td>0</td>\n",
       "      <td>0</td>\n",
       "      <td>0</td>\n",
       "      <td>0</td>\n",
       "    </tr>\n",
       "  </tbody>\n",
       "</table>\n",
       "<p>5 rows × 785 columns</p>\n",
       "</div>"
      ],
      "text/plain": [
       "   label  1x1  1x2  1x3  1x4  1x5  1x6  1x7  1x8  1x9  ...  28x19  28x20  \\\n",
       "0      5    0    0    0    0    0    0    0    0    0  ...      0      0   \n",
       "1      0    0    0    0    0    0    0    0    0    0  ...      0      0   \n",
       "2      4    0    0    0    0    0    0    0    0    0  ...      0      0   \n",
       "3      1    0    0    0    0    0    0    0    0    0  ...      0      0   \n",
       "4      9    0    0    0    0    0    0    0    0    0  ...      0      0   \n",
       "\n",
       "   28x21  28x22  28x23  28x24  28x25  28x26  28x27  28x28  \n",
       "0      0      0      0      0      0      0      0      0  \n",
       "1      0      0      0      0      0      0      0      0  \n",
       "2      0      0      0      0      0      0      0      0  \n",
       "3      0      0      0      0      0      0      0      0  \n",
       "4      0      0      0      0      0      0      0      0  \n",
       "\n",
       "[5 rows x 785 columns]"
      ]
     },
     "execution_count": 3,
     "metadata": {},
     "output_type": "execute_result"
    }
   ],
   "source": [
    "data.head()"
   ]
  },
  {
   "cell_type": "code",
   "execution_count": 4,
   "id": "95df54b8",
   "metadata": {
    "execution": {
     "iopub.execute_input": "2022-12-23T13:08:31.127167Z",
     "iopub.status.busy": "2022-12-23T13:08:31.126735Z",
     "iopub.status.idle": "2022-12-23T13:08:31.324600Z",
     "shell.execute_reply": "2022-12-23T13:08:31.322990Z"
    },
    "papermill": {
     "duration": 0.209559,
     "end_time": "2022-12-23T13:08:31.328127",
     "exception": false,
     "start_time": "2022-12-23T13:08:31.118568",
     "status": "completed"
    },
    "tags": []
   },
   "outputs": [],
   "source": [
    "data = np.array(data)"
   ]
  },
  {
   "cell_type": "code",
   "execution_count": 5,
   "id": "19a52d3d",
   "metadata": {
    "execution": {
     "iopub.execute_input": "2022-12-23T13:08:31.344631Z",
     "iopub.status.busy": "2022-12-23T13:08:31.343592Z",
     "iopub.status.idle": "2022-12-23T13:08:32.141336Z",
     "shell.execute_reply": "2022-12-23T13:08:32.140092Z"
    },
    "papermill": {
     "duration": 0.80913,
     "end_time": "2022-12-23T13:08:32.144185",
     "exception": false,
     "start_time": "2022-12-23T13:08:31.335055",
     "status": "completed"
    },
    "tags": []
   },
   "outputs": [],
   "source": [
    "m, n = data.shape\n",
    "np.random.shuffle(data)"
   ]
  },
  {
   "cell_type": "code",
   "execution_count": 6,
   "id": "e36d41ad",
   "metadata": {
    "execution": {
     "iopub.execute_input": "2022-12-23T13:08:32.161985Z",
     "iopub.status.busy": "2022-12-23T13:08:32.160820Z",
     "iopub.status.idle": "2022-12-23T13:08:32.169171Z",
     "shell.execute_reply": "2022-12-23T13:08:32.167885Z"
    },
    "papermill": {
     "duration": 0.020177,
     "end_time": "2022-12-23T13:08:32.171911",
     "exception": false,
     "start_time": "2022-12-23T13:08:32.151734",
     "status": "completed"
    },
    "tags": []
   },
   "outputs": [],
   "source": [
    "data_dev = data[0:1000].T\n",
    "X_dev = data_dev[1:n]\n",
    "X_dev = X_dev / 255.\n",
    "\n",
    "Y_dev = data_dev[0]"
   ]
  },
  {
   "cell_type": "code",
   "execution_count": 7,
   "id": "49e9f009",
   "metadata": {
    "execution": {
     "iopub.execute_input": "2022-12-23T13:08:32.188548Z",
     "iopub.status.busy": "2022-12-23T13:08:32.187461Z",
     "iopub.status.idle": "2022-12-23T13:08:32.409855Z",
     "shell.execute_reply": "2022-12-23T13:08:32.408691Z"
    },
    "papermill": {
     "duration": 0.233801,
     "end_time": "2022-12-23T13:08:32.412876",
     "exception": false,
     "start_time": "2022-12-23T13:08:32.179075",
     "status": "completed"
    },
    "tags": []
   },
   "outputs": [],
   "source": [
    "data_train = data[1000:m].T\n",
    "X_train = data_train[1:n]\n",
    "X_train = X_train / 255.\n",
    "_,m_train = X_train.shape\n",
    "\n",
    "Y_train = data_train[0]"
   ]
  },
  {
   "cell_type": "code",
   "execution_count": 8,
   "id": "9c1d3363",
   "metadata": {
    "execution": {
     "iopub.execute_input": "2022-12-23T13:08:32.431061Z",
     "iopub.status.busy": "2022-12-23T13:08:32.430598Z",
     "iopub.status.idle": "2022-12-23T13:08:32.437365Z",
     "shell.execute_reply": "2022-12-23T13:08:32.436079Z"
    },
    "papermill": {
     "duration": 0.019352,
     "end_time": "2022-12-23T13:08:32.439803",
     "exception": false,
     "start_time": "2022-12-23T13:08:32.420451",
     "status": "completed"
    },
    "tags": []
   },
   "outputs": [],
   "source": [
    "def init_params():\n",
    "    W1 = np.random.rand(10, 784) - 0.5\n",
    "    b1 = np.random.rand(10, 1) - 0.5\n",
    "    \n",
    "    W2 = np.random.rand(10, 10) - 0.5\n",
    "    b2 = np.random.rand(10, 1) - 0.5\n",
    "    \n",
    "    return W1, b1, W2, b2"
   ]
  },
  {
   "cell_type": "code",
   "execution_count": 9,
   "id": "398f92cc",
   "metadata": {
    "execution": {
     "iopub.execute_input": "2022-12-23T13:08:32.455483Z",
     "iopub.status.busy": "2022-12-23T13:08:32.454733Z",
     "iopub.status.idle": "2022-12-23T13:08:32.460085Z",
     "shell.execute_reply": "2022-12-23T13:08:32.458897Z"
    },
    "papermill": {
     "duration": 0.015967,
     "end_time": "2022-12-23T13:08:32.462724",
     "exception": false,
     "start_time": "2022-12-23T13:08:32.446757",
     "status": "completed"
    },
    "tags": []
   },
   "outputs": [],
   "source": [
    "def ReLU(Z):\n",
    "    return np.maximum(Z, 0)"
   ]
  },
  {
   "cell_type": "code",
   "execution_count": 10,
   "id": "37ac2acc",
   "metadata": {
    "execution": {
     "iopub.execute_input": "2022-12-23T13:08:32.479166Z",
     "iopub.status.busy": "2022-12-23T13:08:32.478452Z",
     "iopub.status.idle": "2022-12-23T13:08:32.483358Z",
     "shell.execute_reply": "2022-12-23T13:08:32.482371Z"
    },
    "papermill": {
     "duration": 0.016089,
     "end_time": "2022-12-23T13:08:32.485797",
     "exception": false,
     "start_time": "2022-12-23T13:08:32.469708",
     "status": "completed"
    },
    "tags": []
   },
   "outputs": [],
   "source": [
    "def ReLU_deriv(Z):\n",
    "    return Z > 0"
   ]
  },
  {
   "cell_type": "code",
   "execution_count": 11,
   "id": "fcf5d8bc",
   "metadata": {
    "execution": {
     "iopub.execute_input": "2022-12-23T13:08:32.502625Z",
     "iopub.status.busy": "2022-12-23T13:08:32.501345Z",
     "iopub.status.idle": "2022-12-23T13:08:32.506507Z",
     "shell.execute_reply": "2022-12-23T13:08:32.505678Z"
    },
    "papermill": {
     "duration": 0.015952,
     "end_time": "2022-12-23T13:08:32.508970",
     "exception": false,
     "start_time": "2022-12-23T13:08:32.493018",
     "status": "completed"
    },
    "tags": []
   },
   "outputs": [],
   "source": [
    "def softmax(Z):\n",
    "    A = np.exp(Z) / sum(np.exp(Z))\n",
    "    return A"
   ]
  },
  {
   "cell_type": "code",
   "execution_count": 12,
   "id": "0f101c23",
   "metadata": {
    "execution": {
     "iopub.execute_input": "2022-12-23T13:08:32.526202Z",
     "iopub.status.busy": "2022-12-23T13:08:32.525555Z",
     "iopub.status.idle": "2022-12-23T13:08:32.531102Z",
     "shell.execute_reply": "2022-12-23T13:08:32.529935Z"
    },
    "papermill": {
     "duration": 0.017357,
     "end_time": "2022-12-23T13:08:32.533832",
     "exception": false,
     "start_time": "2022-12-23T13:08:32.516475",
     "status": "completed"
    },
    "tags": []
   },
   "outputs": [],
   "source": [
    "def forward_prop(W1, b1, W2, b2, X):\n",
    "    Z1 = W1.dot(X) + b1\n",
    "    A1 = ReLU(Z1)\n",
    "    \n",
    "    Z2 = W2.dot(A1) + b2\n",
    "    A2 = softmax(Z2)\n",
    "    \n",
    "    return Z1, A1, Z2, A2"
   ]
  },
  {
   "cell_type": "code",
   "execution_count": 13,
   "id": "58d3609a",
   "metadata": {
    "execution": {
     "iopub.execute_input": "2022-12-23T13:08:32.549906Z",
     "iopub.status.busy": "2022-12-23T13:08:32.549467Z",
     "iopub.status.idle": "2022-12-23T13:08:32.557202Z",
     "shell.execute_reply": "2022-12-23T13:08:32.555030Z"
    },
    "papermill": {
     "duration": 0.019592,
     "end_time": "2022-12-23T13:08:32.560319",
     "exception": false,
     "start_time": "2022-12-23T13:08:32.540727",
     "status": "completed"
    },
    "tags": []
   },
   "outputs": [],
   "source": [
    "def one_hot(Y):\n",
    "    one_hot_Y = np.zeros((Y.size, Y.max() + 1))\n",
    "    one_hot_Y[np.arange(Y.size), Y] = 1\n",
    "    one_hot_Y = one_hot_Y.T\n",
    "    \n",
    "    return one_hot_Y"
   ]
  },
  {
   "cell_type": "code",
   "execution_count": 14,
   "id": "dd110c56",
   "metadata": {
    "execution": {
     "iopub.execute_input": "2022-12-23T13:08:32.577062Z",
     "iopub.status.busy": "2022-12-23T13:08:32.576588Z",
     "iopub.status.idle": "2022-12-23T13:08:32.584829Z",
     "shell.execute_reply": "2022-12-23T13:08:32.583339Z"
    },
    "papermill": {
     "duration": 0.02008,
     "end_time": "2022-12-23T13:08:32.588180",
     "exception": false,
     "start_time": "2022-12-23T13:08:32.568100",
     "status": "completed"
    },
    "tags": []
   },
   "outputs": [],
   "source": [
    "def backward_prop(Z1, A1, Z2, A2, W1, W2, X, Y):\n",
    "    one_hot_Y = one_hot(Y)\n",
    "    dZ2 = A2 - one_hot_Y\n",
    "    dW2 = 1 / m * dZ2.dot(A1.T)\n",
    "    db2 = 1 / m * np.sum(dZ2)\n",
    "    dZ1 = W2.T.dot(dZ2) * ReLU_deriv(Z1)\n",
    "    dW1 = 1 / m * dZ1.dot(X.T)\n",
    "    db1 = 1 / m * np.sum(dZ1)\n",
    "    \n",
    "    return dW1, db1, dW2, db2"
   ]
  },
  {
   "cell_type": "code",
   "execution_count": 15,
   "id": "03e81c55",
   "metadata": {
    "execution": {
     "iopub.execute_input": "2022-12-23T13:08:32.603976Z",
     "iopub.status.busy": "2022-12-23T13:08:32.603575Z",
     "iopub.status.idle": "2022-12-23T13:08:32.609423Z",
     "shell.execute_reply": "2022-12-23T13:08:32.608219Z"
    },
    "papermill": {
     "duration": 0.016579,
     "end_time": "2022-12-23T13:08:32.611789",
     "exception": false,
     "start_time": "2022-12-23T13:08:32.595210",
     "status": "completed"
    },
    "tags": []
   },
   "outputs": [],
   "source": [
    "def update_params(W1, b1, W2, b2, dW1, db1, dW2, db2, alpha):\n",
    "    W1 = W1 - alpha * dW1\n",
    "    b1 = b1 - alpha * db1    \n",
    "    W2 = W2 - alpha * dW2  \n",
    "    b2 = b2 - alpha * db2    \n",
    "    \n",
    "    return W1, b1, W2, b2"
   ]
  },
  {
   "cell_type": "code",
   "execution_count": 16,
   "id": "b52473bd",
   "metadata": {
    "execution": {
     "iopub.execute_input": "2022-12-23T13:08:32.628575Z",
     "iopub.status.busy": "2022-12-23T13:08:32.627531Z",
     "iopub.status.idle": "2022-12-23T13:08:32.634319Z",
     "shell.execute_reply": "2022-12-23T13:08:32.632929Z"
    },
    "papermill": {
     "duration": 0.01857,
     "end_time": "2022-12-23T13:08:32.637247",
     "exception": false,
     "start_time": "2022-12-23T13:08:32.618677",
     "status": "completed"
    },
    "tags": []
   },
   "outputs": [],
   "source": [
    "def get_predictions(A2):\n",
    "    return np.argmax(A2, 0)"
   ]
  },
  {
   "cell_type": "code",
   "execution_count": 17,
   "id": "2ff03a4b",
   "metadata": {
    "execution": {
     "iopub.execute_input": "2022-12-23T13:08:32.654070Z",
     "iopub.status.busy": "2022-12-23T13:08:32.653667Z",
     "iopub.status.idle": "2022-12-23T13:08:32.660106Z",
     "shell.execute_reply": "2022-12-23T13:08:32.658728Z"
    },
    "papermill": {
     "duration": 0.017808,
     "end_time": "2022-12-23T13:08:32.662924",
     "exception": false,
     "start_time": "2022-12-23T13:08:32.645116",
     "status": "completed"
    },
    "tags": []
   },
   "outputs": [],
   "source": [
    "def get_accuracy(predictions, Y):\n",
    "    print(predictions, Y)\n",
    "    return np.sum(predictions == Y) / Y.size"
   ]
  },
  {
   "cell_type": "code",
   "execution_count": 18,
   "id": "cb82345d",
   "metadata": {
    "execution": {
     "iopub.execute_input": "2022-12-23T13:08:32.679002Z",
     "iopub.status.busy": "2022-12-23T13:08:32.678585Z",
     "iopub.status.idle": "2022-12-23T13:08:32.686826Z",
     "shell.execute_reply": "2022-12-23T13:08:32.685665Z"
    },
    "papermill": {
     "duration": 0.019263,
     "end_time": "2022-12-23T13:08:32.689210",
     "exception": false,
     "start_time": "2022-12-23T13:08:32.669947",
     "status": "completed"
    },
    "tags": []
   },
   "outputs": [],
   "source": [
    "def gradient_descent(X, Y, alpha, iterations):\n",
    "    W1, b1, W2, b2 = init_params()\n",
    "    for i in range(iterations):\n",
    "        Z1, A1, Z2, A2 = forward_prop(W1, b1, W2, b2, X)\n",
    "        dW1, db1, dW2, db2 = backward_prop(Z1, A1, Z2, A2, W1, W2, X, Y)\n",
    "        W1, b1, W2, b2 = update_params(W1, b1, W2, b2, dW1, db1, dW2, db2, alpha)\n",
    "        if i % 10 == 0:\n",
    "            print(\"Iteration: \", i)\n",
    "            predictions = get_predictions(A2)\n",
    "            print(get_accuracy(predictions, Y))\n",
    "    return W1, b1, W2, b2"
   ]
  },
  {
   "cell_type": "code",
   "execution_count": 19,
   "id": "10c66b1a",
   "metadata": {
    "execution": {
     "iopub.execute_input": "2022-12-23T13:08:32.704804Z",
     "iopub.status.busy": "2022-12-23T13:08:32.704405Z",
     "iopub.status.idle": "2022-12-23T13:10:13.829490Z",
     "shell.execute_reply": "2022-12-23T13:10:13.827814Z"
    },
    "papermill": {
     "duration": 101.138061,
     "end_time": "2022-12-23T13:10:13.834128",
     "exception": false,
     "start_time": "2022-12-23T13:08:32.696067",
     "status": "completed"
    },
    "tags": []
   },
   "outputs": [
    {
     "name": "stdout",
     "output_type": "stream",
     "text": [
      "Iteration:  0\n",
      "[2 2 2 ... 4 2 4] [7 6 7 ... 1 7 1]\n",
      "0.09488135593220338\n",
      "Iteration:  10\n",
      "[7 3 4 ... 4 3 4] [7 6 7 ... 1 7 1]\n",
      "0.17835593220338983\n",
      "Iteration:  20\n",
      "[7 3 7 ... 4 3 4] [7 6 7 ... 1 7 1]\n",
      "0.2700169491525424\n",
      "Iteration:  30\n",
      "[7 3 7 ... 3 3 3] [7 6 7 ... 1 7 1]\n",
      "0.35515254237288135\n",
      "Iteration:  40\n",
      "[7 3 7 ... 1 2 1] [7 6 7 ... 1 7 1]\n",
      "0.4055423728813559\n",
      "Iteration:  50\n",
      "[7 9 7 ... 1 2 1] [7 6 7 ... 1 7 1]\n",
      "0.4383728813559322\n",
      "Iteration:  60\n",
      "[7 9 7 ... 1 2 1] [7 6 7 ... 1 7 1]\n",
      "0.4687457627118644\n",
      "Iteration:  70\n",
      "[7 9 7 ... 1 2 1] [7 6 7 ... 1 7 1]\n",
      "0.4946949152542373\n",
      "Iteration:  80\n",
      "[7 9 7 ... 1 2 1] [7 6 7 ... 1 7 1]\n",
      "0.5171186440677966\n",
      "Iteration:  90\n",
      "[7 9 7 ... 1 7 1] [7 6 7 ... 1 7 1]\n",
      "0.5396779661016949\n",
      "Iteration:  100\n",
      "[7 9 7 ... 1 7 1] [7 6 7 ... 1 7 1]\n",
      "0.560677966101695\n",
      "Iteration:  110\n",
      "[7 9 7 ... 1 7 1] [7 6 7 ... 1 7 1]\n",
      "0.5819661016949152\n",
      "Iteration:  120\n",
      "[7 9 7 ... 1 7 1] [7 6 7 ... 1 7 1]\n",
      "0.6006440677966102\n",
      "Iteration:  130\n",
      "[7 9 7 ... 1 7 1] [7 6 7 ... 1 7 1]\n",
      "0.6197118644067796\n",
      "Iteration:  140\n",
      "[7 4 7 ... 1 7 1] [7 6 7 ... 1 7 1]\n",
      "0.6373728813559322\n",
      "Iteration:  150\n",
      "[7 4 7 ... 1 7 1] [7 6 7 ... 1 7 1]\n",
      "0.655542372881356\n",
      "Iteration:  160\n",
      "[7 6 7 ... 1 7 1] [7 6 7 ... 1 7 1]\n",
      "0.6730508474576271\n",
      "Iteration:  170\n",
      "[7 6 7 ... 1 7 1] [7 6 7 ... 1 7 1]\n",
      "0.6879661016949152\n",
      "Iteration:  180\n",
      "[7 6 7 ... 1 7 1] [7 6 7 ... 1 7 1]\n",
      "0.702271186440678\n",
      "Iteration:  190\n",
      "[7 6 7 ... 1 7 1] [7 6 7 ... 1 7 1]\n",
      "0.7149830508474576\n",
      "Iteration:  200\n",
      "[7 6 7 ... 1 7 1] [7 6 7 ... 1 7 1]\n",
      "0.7265762711864406\n",
      "Iteration:  210\n",
      "[7 6 7 ... 1 7 1] [7 6 7 ... 1 7 1]\n",
      "0.7373898305084746\n",
      "Iteration:  220\n",
      "[7 6 7 ... 1 7 1] [7 6 7 ... 1 7 1]\n",
      "0.7464406779661017\n",
      "Iteration:  230\n",
      "[7 6 7 ... 1 7 1] [7 6 7 ... 1 7 1]\n",
      "0.7542881355932204\n",
      "Iteration:  240\n",
      "[7 6 7 ... 1 7 1] [7 6 7 ... 1 7 1]\n",
      "0.7612542372881356\n",
      "Iteration:  250\n",
      "[7 6 7 ... 1 7 1] [7 6 7 ... 1 7 1]\n",
      "0.7680508474576271\n",
      "Iteration:  260\n",
      "[7 6 7 ... 1 7 1] [7 6 7 ... 1 7 1]\n",
      "0.7740169491525424\n",
      "Iteration:  270\n",
      "[7 6 7 ... 1 7 1] [7 6 7 ... 1 7 1]\n",
      "0.7796271186440678\n",
      "Iteration:  280\n",
      "[7 6 7 ... 1 7 1] [7 6 7 ... 1 7 1]\n",
      "0.784728813559322\n",
      "Iteration:  290\n",
      "[7 6 7 ... 1 7 1] [7 6 7 ... 1 7 1]\n",
      "0.7887118644067797\n",
      "Iteration:  300\n",
      "[7 6 7 ... 1 7 1] [7 6 7 ... 1 7 1]\n",
      "0.7929322033898305\n",
      "Iteration:  310\n",
      "[7 6 7 ... 1 7 1] [7 6 7 ... 1 7 1]\n",
      "0.7966610169491526\n",
      "Iteration:  320\n",
      "[7 6 7 ... 1 7 1] [7 6 7 ... 1 7 1]\n",
      "0.8002372881355932\n",
      "Iteration:  330\n",
      "[7 6 7 ... 1 7 1] [7 6 7 ... 1 7 1]\n",
      "0.8032203389830509\n",
      "Iteration:  340\n",
      "[7 6 7 ... 1 7 1] [7 6 7 ... 1 7 1]\n",
      "0.8068983050847458\n",
      "Iteration:  350\n",
      "[7 6 7 ... 1 7 1] [7 6 7 ... 1 7 1]\n",
      "0.8101186440677967\n",
      "Iteration:  360\n",
      "[7 6 7 ... 1 7 1] [7 6 7 ... 1 7 1]\n",
      "0.8127118644067797\n",
      "Iteration:  370\n",
      "[7 6 7 ... 1 7 1] [7 6 7 ... 1 7 1]\n",
      "0.8153389830508475\n",
      "Iteration:  380\n",
      "[7 6 7 ... 1 7 1] [7 6 7 ... 1 7 1]\n",
      "0.8175084745762712\n",
      "Iteration:  390\n",
      "[7 6 7 ... 1 7 1] [7 6 7 ... 1 7 1]\n",
      "0.8201186440677967\n",
      "Iteration:  400\n",
      "[7 6 7 ... 1 7 1] [7 6 7 ... 1 7 1]\n",
      "0.8224237288135593\n",
      "Iteration:  410\n",
      "[7 6 7 ... 1 7 1] [7 6 7 ... 1 7 1]\n",
      "0.8247118644067797\n",
      "Iteration:  420\n",
      "[7 6 7 ... 1 7 1] [7 6 7 ... 1 7 1]\n",
      "0.8267966101694916\n",
      "Iteration:  430\n",
      "[7 6 7 ... 1 7 1] [7 6 7 ... 1 7 1]\n",
      "0.8285593220338983\n",
      "Iteration:  440\n",
      "[7 6 7 ... 1 7 1] [7 6 7 ... 1 7 1]\n",
      "0.8304915254237288\n",
      "Iteration:  450\n",
      "[7 6 7 ... 1 7 1] [7 6 7 ... 1 7 1]\n",
      "0.832135593220339\n",
      "Iteration:  460\n",
      "[7 6 7 ... 1 7 1] [7 6 7 ... 1 7 1]\n",
      "0.8335084745762712\n",
      "Iteration:  470\n",
      "[7 6 7 ... 1 7 1] [7 6 7 ... 1 7 1]\n",
      "0.8350338983050848\n",
      "Iteration:  480\n",
      "[7 6 7 ... 1 7 1] [7 6 7 ... 1 7 1]\n",
      "0.8367118644067797\n",
      "Iteration:  490\n",
      "[7 6 7 ... 1 7 1] [7 6 7 ... 1 7 1]\n",
      "0.8384237288135593\n"
     ]
    }
   ],
   "source": [
    "W1, b1, W2, b2 = gradient_descent(X_train, Y_train, 0.10, 500)"
   ]
  },
  {
   "cell_type": "code",
   "execution_count": 20,
   "id": "5e22f899",
   "metadata": {
    "execution": {
     "iopub.execute_input": "2022-12-23T13:10:13.872912Z",
     "iopub.status.busy": "2022-12-23T13:10:13.871783Z",
     "iopub.status.idle": "2022-12-23T13:10:13.880873Z",
     "shell.execute_reply": "2022-12-23T13:10:13.878783Z"
    },
    "papermill": {
     "duration": 0.033309,
     "end_time": "2022-12-23T13:10:13.886253",
     "exception": false,
     "start_time": "2022-12-23T13:10:13.852944",
     "status": "completed"
    },
    "tags": []
   },
   "outputs": [],
   "source": [
    "def make_predictions(X, W1, b1, W2, b2):\n",
    "    _, _, _, A2 = forward_prop(W1, b1, W2, b2, X)\n",
    "    predictions = get_predictions(A2)\n",
    "    \n",
    "    return predictions"
   ]
  },
  {
   "cell_type": "code",
   "execution_count": 21,
   "id": "13a95fd2",
   "metadata": {
    "execution": {
     "iopub.execute_input": "2022-12-23T13:10:13.922681Z",
     "iopub.status.busy": "2022-12-23T13:10:13.921863Z",
     "iopub.status.idle": "2022-12-23T13:10:13.935967Z",
     "shell.execute_reply": "2022-12-23T13:10:13.934304Z"
    },
    "papermill": {
     "duration": 0.038588,
     "end_time": "2022-12-23T13:10:13.941318",
     "exception": false,
     "start_time": "2022-12-23T13:10:13.902730",
     "status": "completed"
    },
    "tags": []
   },
   "outputs": [],
   "source": [
    "def test_prediction(index, W1, b1, W2, b2):\n",
    "    current_image = X_train[:, index, None]\n",
    "    prediction = make_predictions(X_train[:, index, None], W1, b1, W2, b2)\n",
    "    label = Y_train[index]\n",
    "    print(\"Prediction: \", prediction)\n",
    "    print(\"Label: \", label)\n",
    "    \n",
    "    current_image = current_image.reshape((28, 28)) * 255\n",
    "    plt.gray()\n",
    "    plt.imshow(current_image, interpolation='nearest')\n",
    "    plt.show()"
   ]
  },
  {
   "cell_type": "code",
   "execution_count": 22,
   "id": "e267e9d7",
   "metadata": {
    "execution": {
     "iopub.execute_input": "2022-12-23T13:10:13.967450Z",
     "iopub.status.busy": "2022-12-23T13:10:13.967046Z",
     "iopub.status.idle": "2022-12-23T13:10:14.185015Z",
     "shell.execute_reply": "2022-12-23T13:10:14.183608Z"
    },
    "papermill": {
     "duration": 0.233883,
     "end_time": "2022-12-23T13:10:14.187812",
     "exception": false,
     "start_time": "2022-12-23T13:10:13.953929",
     "status": "completed"
    },
    "tags": []
   },
   "outputs": [
    {
     "name": "stdout",
     "output_type": "stream",
     "text": [
      "Prediction:  [7]\n",
      "Label:  7\n"
     ]
    },
    {
     "data": {
      "image/png": "[encoded data removed]",
      "text/plain": [
       "<Figure size 432x288 with 1 Axes>"
      ]
     },
     "metadata": {
      "needs_background": "light"
     },
     "output_type": "display_data"
    }
   ],
   "source": [
    "test_prediction(0, W1, b1, W2, b2)"
   ]
  },
  {
   "cell_type": "code",
   "execution_count": 23,
   "id": "852b35c2",
   "metadata": {
    "execution": {
     "iopub.execute_input": "2022-12-23T13:10:14.210345Z",
     "iopub.status.busy": "2022-12-23T13:10:14.209494Z",
     "iopub.status.idle": "2022-12-23T13:10:14.385640Z",
     "shell.execute_reply": "2022-12-23T13:10:14.384377Z"
    },
    "papermill": {
     "duration": 0.190862,
     "end_time": "2022-12-23T13:10:14.388938",
     "exception": false,
     "start_time": "2022-12-23T13:10:14.198076",
     "status": "completed"
    },
    "tags": []
   },
   "outputs": [
    {
     "name": "stdout",
     "output_type": "stream",
     "text": [
      "Prediction:  [6]\n",
      "Label:  6\n"
     ]
    },
    {
     "data": {
      "image/png": "[encoded data removed]",
      "text/plain": [
       "<Figure size 432x288 with 1 Axes>"
      ]
     },
     "metadata": {
      "needs_background": "light"
     },
     "output_type": "display_data"
    }
   ],
   "source": [
    "test_prediction(1, W1, b1, W2, b2)"
   ]
  },
  {
   "cell_type": "code",
   "execution_count": 24,
   "id": "d21a742c",
   "metadata": {
    "execution": {
     "iopub.execute_input": "2022-12-23T13:10:14.413572Z",
     "iopub.status.busy": "2022-12-23T13:10:14.413180Z",
     "iopub.status.idle": "2022-12-23T13:10:14.586850Z",
     "shell.execute_reply": "2022-12-23T13:10:14.585326Z"
    },
    "papermill": {
     "duration": 0.189481,
     "end_time": "2022-12-23T13:10:14.589813",
     "exception": false,
     "start_time": "2022-12-23T13:10:14.400332",
     "status": "completed"
    },
    "tags": []
   },
   "outputs": [
    {
     "name": "stdout",
     "output_type": "stream",
     "text": [
      "Prediction:  [7]\n",
      "Label:  7\n"
     ]
    },
    {
     "data": {
      "image/png": "[encoded data removed]",
      "text/plain": [
       "<Figure size 432x288 with 1 Axes>"
      ]
     },
     "metadata": {
      "needs_background": "light"
     },
     "output_type": "display_data"
    }
   ],
   "source": [
    "test_prediction(2, W1, b1, W2, b2)"
   ]
  },
  {
   "cell_type": "code",
   "execution_count": 25,
   "id": "77a9e5f4",
   "metadata": {
    "execution": {
     "iopub.execute_input": "2022-12-23T13:10:14.614191Z",
     "iopub.status.busy": "2022-12-23T13:10:14.613073Z",
     "iopub.status.idle": "2022-12-23T13:10:14.786308Z",
     "shell.execute_reply": "2022-12-23T13:10:14.785362Z"
    },
    "papermill": {
     "duration": 0.188413,
     "end_time": "2022-12-23T13:10:14.788830",
     "exception": false,
     "start_time": "2022-12-23T13:10:14.600417",
     "status": "completed"
    },
    "tags": []
   },
   "outputs": [
    {
     "name": "stdout",
     "output_type": "stream",
     "text": [
      "Prediction:  [2]\n",
      "Label:  2\n"
     ]
    },
    {
     "data": {
      "image/png": "[encoded data removed]",
      "text/plain": [
       "<Figure size 432x288 with 1 Axes>"
      ]
     },
     "metadata": {
      "needs_background": "light"
     },
     "output_type": "display_data"
    }
   ],
   "source": [
    "test_prediction(3, W1, b1, W2, b2)"
   ]
  }
 ],
 "metadata": {
  "kernelspec": {
   "display_name": "Python 3",
   "language": "python",
   "name": "python3"
  },
  "language_info": {
   "codemirror_mode": {
    "name": "ipython",
    "version": 3
   },
   "file_extension": ".py",
   "mimetype": "text/x-python",
   "name": "python",
   "nbconvert_exporter": "python",
   "pygments_lexer": "ipython3",
   "version": "3.7.12"
  },
  "papermill": {
   "default_parameters": {},
   "duration": 120.325257,
   "end_time": "2022-12-23T13:10:15.522087",
   "environment_variables": {},
   "exception": null,
   "input_path": "__notebook__.ipynb",
   "output_path": "__notebook__.ipynb",
   "parameters": {},
   "start_time": "2022-12-23T13:08:15.196830",
   "version": "2.3.4"
  }
 },
 "nbformat": 4,
 "nbformat_minor": 5
}
