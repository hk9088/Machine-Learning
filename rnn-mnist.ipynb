{
 "cells": [
  {
   "cell_type": "code",
   "execution_count": 1,
   "id": "de038513",
   "metadata": {
    "_cell_guid": "b1076dfc-b9ad-4769-8c92-a6c4dae69d19",
    "_uuid": "8f2839f25d086af736a60e9eeb907d3b93b6e0e5",
    "execution": {
     "iopub.execute_input": "2022-12-27T19:26:22.201792Z",
     "iopub.status.busy": "2022-12-27T19:26:22.200934Z",
     "iopub.status.idle": "2022-12-27T19:26:28.814283Z",
     "shell.execute_reply": "2022-12-27T19:26:28.811652Z"
    },
    "papermill": {
     "duration": 6.622882,
     "end_time": "2022-12-27T19:26:28.818076",
     "exception": false,
     "start_time": "2022-12-27T19:26:22.195194",
     "status": "completed"
    },
    "tags": []
   },
   "outputs": [],
   "source": [
    "import tensorflow as tf\n",
    "import numpy as np"
   ]
  },
  {
   "cell_type": "code",
   "execution_count": 2,
   "id": "d7f8b4b4",
   "metadata": {
    "execution": {
     "iopub.execute_input": "2022-12-27T19:26:28.826719Z",
     "iopub.status.busy": "2022-12-27T19:26:28.825947Z",
     "iopub.status.idle": "2022-12-27T19:26:28.832449Z",
     "shell.execute_reply": "2022-12-27T19:26:28.831219Z"
    },
    "papermill": {
     "duration": 0.013945,
     "end_time": "2022-12-27T19:26:28.835544",
     "exception": false,
     "start_time": "2022-12-27T19:26:28.821599",
     "status": "completed"
    },
    "tags": []
   },
   "outputs": [
    {
     "name": "stdout",
     "output_type": "stream",
     "text": [
      "2.6.4\n"
     ]
    }
   ],
   "source": [
    "print(tf.__version__)"
   ]
  },
  {
   "cell_type": "code",
   "execution_count": 3,
   "id": "d8d37631",
   "metadata": {
    "execution": {
     "iopub.execute_input": "2022-12-27T19:26:28.844110Z",
     "iopub.status.busy": "2022-12-27T19:26:28.843317Z",
     "iopub.status.idle": "2022-12-27T19:26:30.001787Z",
     "shell.execute_reply": "2022-12-27T19:26:30.000190Z"
    },
    "papermill": {
     "duration": 1.165964,
     "end_time": "2022-12-27T19:26:30.004647",
     "exception": false,
     "start_time": "2022-12-27T19:26:28.838683",
     "status": "completed"
    },
    "tags": []
   },
   "outputs": [],
   "source": [
    "mnist = tf.keras.datasets.mnist"
   ]
  },
  {
   "cell_type": "code",
   "execution_count": 4,
   "id": "e1de6984",
   "metadata": {
    "execution": {
     "iopub.execute_input": "2022-12-27T19:26:30.012990Z",
     "iopub.status.busy": "2022-12-27T19:26:30.012570Z",
     "iopub.status.idle": "2022-12-27T19:26:32.707888Z",
     "shell.execute_reply": "2022-12-27T19:26:32.706170Z"
    },
    "papermill": {
     "duration": 2.702931,
     "end_time": "2022-12-27T19:26:32.711014",
     "exception": false,
     "start_time": "2022-12-27T19:26:30.008083",
     "status": "completed"
    },
    "tags": []
   },
   "outputs": [
    {
     "name": "stdout",
     "output_type": "stream",
     "text": [
      "Downloading data from https://storage.googleapis.com/tensorflow/tf-keras-datasets/mnist.npz\n",
      "11493376/11490434 [==============================] - 1s 0us/step\n",
      "11501568/11490434 [==============================] - 1s 0us/step\n"
     ]
    }
   ],
   "source": [
    "(x_train, y_train), (x_test, y_test) = mnist.load_data()\n",
    "\n",
    "x_train = tf.keras.utils.normalize(x_train, axis = 1)\n",
    "x_test = tf.keras.utils.normalize(x_test, axis = 1)"
   ]
  },
  {
   "cell_type": "code",
   "execution_count": 5,
   "id": "e2a164be",
   "metadata": {
    "execution": {
     "iopub.execute_input": "2022-12-27T19:26:32.722743Z",
     "iopub.status.busy": "2022-12-27T19:26:32.722295Z",
     "iopub.status.idle": "2022-12-27T19:26:32.729508Z",
     "shell.execute_reply": "2022-12-27T19:26:32.727666Z"
    },
    "papermill": {
     "duration": 0.016919,
     "end_time": "2022-12-27T19:26:32.733070",
     "exception": false,
     "start_time": "2022-12-27T19:26:32.716151",
     "status": "completed"
    },
    "tags": []
   },
   "outputs": [
    {
     "name": "stdout",
     "output_type": "stream",
     "text": [
      "(60000, 28, 28)\n",
      "(28, 28)\n"
     ]
    }
   ],
   "source": [
    "print(x_train.shape)\n",
    "print(x_train[0].shape)"
   ]
  },
  {
   "cell_type": "code",
   "execution_count": 6,
   "id": "3e2f8a75",
   "metadata": {
    "execution": {
     "iopub.execute_input": "2022-12-27T19:26:32.744834Z",
     "iopub.status.busy": "2022-12-27T19:26:32.743646Z",
     "iopub.status.idle": "2022-12-27T19:31:38.730301Z",
     "shell.execute_reply": "2022-12-27T19:31:38.729543Z"
    },
    "papermill": {
     "duration": 306.278734,
     "end_time": "2022-12-27T19:31:39.016525",
     "exception": false,
     "start_time": "2022-12-27T19:26:32.737791",
     "status": "completed"
    },
    "tags": []
   },
   "outputs": [
    {
     "name": "stderr",
     "output_type": "stream",
     "text": [
      "2022-12-27 19:26:32.786617: I tensorflow/core/common_runtime/process_util.cc:146] Creating new thread pool with default inter op setting: 2. Tune using inter_op_parallelism_threads for best performance.\n",
      "2022-12-27 19:26:33.513375: I tensorflow/compiler/mlir/mlir_graph_optimization_pass.cc:185] None of the MLIR Optimization Passes are enabled (registered 2)\n"
     ]
    },
    {
     "name": "stdout",
     "output_type": "stream",
     "text": [
      "Epoch 1/3\n",
      "1875/1875 [==============================] - 102s 53ms/step - loss: 0.7107 - accuracy: 0.7641 - val_loss: 0.1735 - val_accuracy: 0.9480\n",
      "Epoch 2/3\n",
      "1875/1875 [==============================] - 102s 54ms/step - loss: 0.1847 - accuracy: 0.9508 - val_loss: 0.1358 - val_accuracy: 0.9612\n",
      "Epoch 3/3\n",
      "1875/1875 [==============================] - 101s 54ms/step - loss: 0.1204 - accuracy: 0.9680 - val_loss: 0.1029 - val_accuracy: 0.9765\n"
     ]
    },
    {
     "data": {
      "text/plain": [
       "<keras.callbacks.History at 0x7fcad8695350>"
      ]
     },
     "execution_count": 6,
     "metadata": {},
     "output_type": "execute_result"
    }
   ],
   "source": [
    "model = tf.keras.models.Sequential()\n",
    "model.add(tf.keras.layers.LSTM(128, input_shape = (x_train.shape[1:]), activation = 'relu', return_sequences = True))\n",
    "model.add(tf.keras.layers.Dropout(0.2))\n",
    "\n",
    "model.add(tf.keras.layers.LSTM(128, activation = 'relu'))\n",
    "model.add(tf.keras.layers.Dropout(0.2))\n",
    "\n",
    "model.add(tf.keras.layers.Dense(32, activation = 'relu'))\n",
    "model.add(tf.keras.layers.Dropout(0.2))\n",
    "\n",
    "model.add(tf.keras.layers.Dense(10, activation = 'softmax'))\n",
    "\n",
    "opt = tf.keras.optimizers.Adam(learning_rate = 1e-3, decay = 1e-5)\n",
    "\n",
    "model.compile(loss = 'sparse_categorical_crossentropy',\n",
    "             optimizer = opt,\n",
    "             metrics = ['accuracy'])\n",
    "\n",
    "model.fit(x_train, y_train, epochs = 3, validation_data = (x_test, y_test))"
   ]
  },
  {
   "cell_type": "code",
   "execution_count": 7,
   "id": "95f421bf",
   "metadata": {
    "execution": {
     "iopub.execute_input": "2022-12-27T19:31:39.466630Z",
     "iopub.status.busy": "2022-12-27T19:31:39.464838Z",
     "iopub.status.idle": "2022-12-27T19:31:45.731342Z",
     "shell.execute_reply": "2022-12-27T19:31:45.730101Z"
    },
    "papermill": {
     "duration": 6.496206,
     "end_time": "2022-12-27T19:31:45.733807",
     "exception": false,
     "start_time": "2022-12-27T19:31:39.237601",
     "status": "completed"
    },
    "tags": []
   },
   "outputs": [],
   "source": [
    "prediction = model.predict(x_test)"
   ]
  },
  {
   "cell_type": "code",
   "execution_count": 8,
   "id": "8a6b27ba",
   "metadata": {
    "execution": {
     "iopub.execute_input": "2022-12-27T19:31:46.188308Z",
     "iopub.status.busy": "2022-12-27T19:31:46.186776Z",
     "iopub.status.idle": "2022-12-27T19:31:46.195675Z",
     "shell.execute_reply": "2022-12-27T19:31:46.193704Z"
    },
    "papermill": {
     "duration": 0.23748,
     "end_time": "2022-12-27T19:31:46.198539",
     "exception": false,
     "start_time": "2022-12-27T19:31:45.961059",
     "status": "completed"
    },
    "tags": []
   },
   "outputs": [
    {
     "name": "stdout",
     "output_type": "stream",
     "text": [
      "7\n"
     ]
    }
   ],
   "source": [
    "print(np.argmax(prediction[0]))"
   ]
  },
  {
   "cell_type": "code",
   "execution_count": 9,
   "id": "9ab9a931",
   "metadata": {
    "execution": {
     "iopub.execute_input": "2022-12-27T19:31:46.645488Z",
     "iopub.status.busy": "2022-12-27T19:31:46.644745Z",
     "iopub.status.idle": "2022-12-27T19:31:46.649855Z",
     "shell.execute_reply": "2022-12-27T19:31:46.648655Z"
    },
    "papermill": {
     "duration": 0.230532,
     "end_time": "2022-12-27T19:31:46.652283",
     "exception": false,
     "start_time": "2022-12-27T19:31:46.421751",
     "status": "completed"
    },
    "tags": []
   },
   "outputs": [],
   "source": [
    "import matplotlib.pyplot as plt"
   ]
  },
  {
   "cell_type": "code",
   "execution_count": 10,
   "id": "01ce184b",
   "metadata": {
    "execution": {
     "iopub.execute_input": "2022-12-27T19:31:47.178731Z",
     "iopub.status.busy": "2022-12-27T19:31:47.178324Z",
     "iopub.status.idle": "2022-12-27T19:31:47.348315Z",
     "shell.execute_reply": "2022-12-27T19:31:47.346882Z"
    },
    "papermill": {
     "duration": 0.469255,
     "end_time": "2022-12-27T19:31:47.351013",
     "exception": false,
     "start_time": "2022-12-27T19:31:46.881758",
     "status": "completed"
    },
    "tags": []
   },
   "outputs": [
    {
     "data": {
      "image/png": "[encoded data removed]",
      "text/plain": [
       "<Figure size 432x288 with 1 Axes>"
      ]
     },
     "metadata": {
      "needs_background": "light"
     },
     "output_type": "display_data"
    }
   ],
   "source": [
    "plt.imshow(x_test[0], cmap=\"gray\")\n",
    "plt.show()"
   ]
  }
 ],
 "metadata": {
  "kernelspec": {
   "display_name": "Python 3",
   "language": "python",
   "name": "python3"
  },
  "language_info": {
   "codemirror_mode": {
    "name": "ipython",
    "version": 3
   },
   "file_extension": ".py",
   "mimetype": "text/x-python",
   "name": "python",
   "nbconvert_exporter": "python",
   "pygments_lexer": "ipython3",
   "version": "3.7.12"
  },
  "papermill": {
   "default_parameters": {},
   "duration": 337.380509,
   "end_time": "2022-12-27T19:31:50.955308",
   "environment_variables": {},
   "exception": null,
   "input_path": "__notebook__.ipynb",
   "output_path": "__notebook__.ipynb",
   "parameters": {},
   "start_time": "2022-12-27T19:26:13.574799",
   "version": "2.3.4"
  }
 },
 "nbformat": 4,
 "nbformat_minor": 5
}
